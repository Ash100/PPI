{
  "nbformat": 4,
  "nbformat_minor": 0,
  "metadata": {
    "colab": {
      "provenance": [],
      "gpuType": "T4",
      "authorship_tag": "ABX9TyMUKVGxcJsOx46ADgn9JCr/",
      "include_colab_link": true
    },
    "kernelspec": {
      "name": "python3",
      "display_name": "Python 3"
    },
    "language_info": {
      "name": "python"
    },
    "accelerator": "GPU"
  },
  "cells": [
    {
      "cell_type": "markdown",
      "metadata": {
        "id": "view-in-github",
        "colab_type": "text"
      },
      "source": [
        "<a href=\"https://colab.research.google.com/github/Ash100/PPI/blob/main/FromComp_Protein_Protein_Docking_with_MEGADOCK.ipynb\" target=\"_parent\"><img src=\"https://colab.research.google.com/assets/colab-badge.svg\" alt=\"Open In Colab\"/></a>"
      ]
    },
    {
      "cell_type": "markdown",
      "source": [
        "##**Protein Protein Docking with MEGADOCK**\n",
        "Hello,\n",
        "I am **Dr. Ashfaq Ahmad**, working in the field of Structure Biology and Bioinformatics. You can watch a video tutorial on https://www.youtube.com/@Bioinformaticsinsights\n",
        "\n",
        " This notebook is managed from the published work of *Masahito Ohue*. If you are planning to publish results generated from this noteboook, please cite\n",
        "\n",
        "**1. MEGADOCK-on-Colab: an easy-to-use protein–protein docking tool on Google Colaboratory**\n",
        "\n",
        "**2. MEGADOCK 4.0: an ultra–high-performance protein–protein docking software for heterogeneous supercomputers**.\n",
        "\n",
        "You are not allowed to use this program commercially, in case you are planning to use it commercially, please take a prior permission from Ohue lab."
      ],
      "metadata": {
        "id": "kD6tD9FgzVeE"
      }
    },
    {
      "cell_type": "markdown",
      "source": [
        "##Upload Your Protein Structures for Computer\n",
        "Once you click, an upload tab will appear"
      ],
      "metadata": {
        "id": "d9ahwnwzzco_"
      }
    },
    {
      "cell_type": "code",
      "execution_count": null,
      "metadata": {
        "id": "RiVUmwQWzD1T"
      },
      "outputs": [],
      "source": [
        "from google.colab import files\n",
        "#@markdown **Receptor PDB** (`-R`)\n",
        "print(\"upload receptor PDB file (.pdb)\")\n",
        "rup = files.upload()\n",
        "rfilename = list(rup.keys())[0]"
      ]
    },
    {
      "cell_type": "code",
      "source": [
        "#@markdown **Ligand PDB** (`-L`)\n",
        "print(\"upload ligand PDB files (.pdb)\")\n",
        "lup = files.upload()\n",
        "lfilename = list(lup.keys())[0]"
      ],
      "metadata": {
        "id": "zQLx3Jl-z9zi"
      },
      "execution_count": null,
      "outputs": []
    },
    {
      "cell_type": "code",
      "source": [
        "#@markdown MEGADOCK parameters (if you want to change)\n",
        "t = \"6\" #@param {type:\"string\"}\n",
        "#D = 0 #@param {type:\"string\"}\n",
        "N = \"10800\" #@param {type:\"string\"}\n",
        "outfile_name = \"dock.out\" #@param {type:\"string\"}"
      ],
      "metadata": {
        "id": "RsbRkIk60D88"
      },
      "execution_count": 12,
      "outputs": []
    },
    {
      "cell_type": "code",
      "source": [
        "#@title Install all the Required software\n",
        "\n",
        "# MEGADOCK\n",
        "!git clone https://github.com/akiyamalab/MEGADOCK\n",
        "!git clone https://github.com/NVIDIA/cuda-samples\n",
        "!apt-get install -y libfftw3-dev libfftw3-single3\n",
        "\n",
        "%cd ./MEGADOCK\n",
        "!make -j 2 -f Makefile.colab\n",
        "\n",
        "# biopython\n",
        "!pip -q install biopython\n",
        "\n",
        "# NGLView\n",
        "!pip install nglview==3.0.8\n",
        "\n",
        "!jupyter-nbextension enable nglview --py --sys-prefix"
      ],
      "metadata": {
        "id": "dv12jJMG0LfU"
      },
      "execution_count": null,
      "outputs": []
    },
    {
      "cell_type": "code",
      "source": [
        "#@title MEGADOCK parameter setting\n",
        "import os\n",
        "os.environ['MDt'] = str(t)\n",
        "os.environ['MDN'] = str(N)\n",
        "os.environ['MDPDBR'] = rfilename\n",
        "os.environ['MDPDBL'] = lfilename\n",
        "os.environ['MDOF'] = str(outfile_name)\n",
        "\n",
        "!bash -c \"mv /content/$MDPDBR .\"\n",
        "!bash -c \"mv /content/$MDPDBL .\""
      ],
      "metadata": {
        "id": "fTynn4rz0OZs"
      },
      "execution_count": null,
      "outputs": []
    },
    {
      "cell_type": "code",
      "source": [
        "#@title Run MEGADOCK\n",
        "!./megadock-gpu -R $MDPDBR -L $MDPDBL -t $MDt -N $MDN -o $MDOF"
      ],
      "metadata": {
        "id": "J1iYX8AR0UP0"
      },
      "execution_count": null,
      "outputs": []
    },
    {
      "cell_type": "markdown",
      "source": [
        "The Below script will allow you to visualize docking result of the Best Pose. If you are unable to see, that is fine. We will download the result and can analyze in offline mode using PyMol, Discovery Visualizer, VMD, Chimera or any other."
      ],
      "metadata": {
        "id": "b-jCJnSP4BUa"
      }
    },
    {
      "cell_type": "code",
      "source": [
        "from google.colab import output\n",
        "output.enable_custom_widget_manager()"
      ],
      "metadata": {
        "id": "VEdnl9JC4Cd_"
      },
      "execution_count": 7,
      "outputs": []
    },
    {
      "cell_type": "code",
      "source": [
        "import ipywidgets as widgets\n",
        "from IPython.display import display\n",
        "import os\n",
        "import sys\n",
        "from urllib.request import urlretrieve\n",
        "import Bio\n",
        "from Bio import PDB\n",
        "from Bio import SeqIO, SearchIO, Entrez\n",
        "from Bio.Seq import Seq\n",
        "import pylab\n",
        "import urllib\n",
        "import pandas as pd\n",
        "import nglview as nv\n",
        "from collections import Counter\n",
        "from Bio.PDB import PDBParser,MMCIFParser"
      ],
      "metadata": {
        "id": "CJSJgtIM4GV8"
      },
      "execution_count": null,
      "outputs": []
    },
    {
      "cell_type": "code",
      "source": [
        "#@title Show the 1st solution in PDB viewer (NGLView)\n",
        "!./decoygen lig.1.pdb $MDPDBL $MDOF 1\n",
        "!cat $MDPDBR lig.1.pdb | sed 's/END//g' > complex1.pdb\n",
        "from google.colab import output\n",
        "output.enable_custom_widget_manager()\n",
        "import nglview as nv\n",
        "view = nv.show_structure_file(\"complex1.pdb\")\n",
        "view"
      ],
      "metadata": {
        "id": "QpTeFJWO0fG0"
      },
      "execution_count": null,
      "outputs": []
    },
    {
      "cell_type": "code",
      "source": [
        "#@title Show the top 5 solutions in PDB viewer (NGLView)\n",
        "!./decoygen lig.2.pdb $MDPDBL $MDOF 2\n",
        "!./decoygen lig.3.pdb $MDPDBL $MDOF 3\n",
        "!./decoygen lig.4.pdb $MDPDBL $MDOF 4\n",
        "!./decoygen lig.5.pdb $MDPDBL $MDOF 5\n",
        "!cat complex1.pdb lig.2.pdb lig.3.pdb lig.4.pdb lig.5.pdb | sed 's/END//g' > complex5s.pdb\n",
        "from google.colab import output\n",
        "output.enable_custom_widget_manager()\n",
        "import nglview as nv\n",
        "view = nv.show_structure_file(\"complex5s.pdb\")\n",
        "view"
      ],
      "metadata": {
        "id": "Zh-pok6w0XvM"
      },
      "execution_count": null,
      "outputs": []
    },
    {
      "cell_type": "code",
      "source": [
        "#@title PPI score calculation (for protein-protein interaction prediction)\n",
        "!./ppiscore $MDOF $MDN"
      ],
      "metadata": {
        "id": "IUjn2Zen0rMe"
      },
      "execution_count": null,
      "outputs": []
    },
    {
      "cell_type": "markdown",
      "source": [
        "##Understand the PPIscore generate above in terms of Interaction\n",
        "The value of the PPI Score (the value of $E$ in the above cell) can predict whether two protein chains will interact or not.  \n",
        "The approximate values of precision (positive predictive value, PPV) and PPI Score are shown in the Figure below.  \n",
        "* The precision is about 10% when $E > 8$ is predicted as \"PPI positive.\"\n",
        "* The precision is about 50% when $E > 10$ is predicted as \"PPI positive.\"\n",
        "* The precision is about 80% when $E > 12$ is predicted as \"PPI positive.\"\n",
        "\n",
        "![](http://drive.google.com/uc?export=view&id=1aVl9yRh-E4HXtn6AQ1fjrMb0M7Nx-wxH)\n",
        "(from Ohue M, _et al_. _Jikkenigaku_, 37(9):1469, 2019.)"
      ],
      "metadata": {
        "id": "G61RGyem009F"
      }
    }
  ]
}