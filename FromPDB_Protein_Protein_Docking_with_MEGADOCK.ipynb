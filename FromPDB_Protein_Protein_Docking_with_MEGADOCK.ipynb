{
  "nbformat": 4,
  "nbformat_minor": 0,
  "metadata": {
    "colab": {
      "provenance": [],
      "gpuType": "T4",
      "authorship_tag": "ABX9TyO7nscUmNP9gRm65OKf/ouj",
      "include_colab_link": true
    },
    "kernelspec": {
      "name": "python3",
      "display_name": "Python 3"
    },
    "language_info": {
      "name": "python"
    },
    "accelerator": "GPU",
    "widgets": {
      "application/vnd.jupyter.widget-state+json": {
        "f51087816e254e6194e2acfeca247b07": {
          "model_module": "nglview-js-widgets",
          "model_name": "ColormakerRegistryModel",
          "model_module_version": "3.0.8",
          "state": {
            "_dom_classes": [],
            "_model_module": "nglview-js-widgets",
            "_model_module_version": "3.0.8",
            "_model_name": "ColormakerRegistryModel",
            "_msg_ar": [],
            "_msg_q": [],
            "_ready": true,
            "_view_count": null,
            "_view_module": "nglview-js-widgets",
            "_view_module_version": "3.0.8",
            "_view_name": "ColormakerRegistryView",
            "layout": "IPY_MODEL_517d5ff85864428eac0ce6ff9ed4af11"
          }
        },
        "517d5ff85864428eac0ce6ff9ed4af11": {
          "model_module": "@jupyter-widgets/base",
          "model_name": "LayoutModel",
          "model_module_version": "1.2.0",
          "state": {
            "_model_module": "@jupyter-widgets/base",
            "_model_module_version": "1.2.0",
            "_model_name": "LayoutModel",
            "_view_count": null,
            "_view_module": "@jupyter-widgets/base",
            "_view_module_version": "1.2.0",
            "_view_name": "LayoutView",
            "align_content": null,
            "align_items": null,
            "align_self": null,
            "border": null,
            "bottom": null,
            "display": null,
            "flex": null,
            "flex_flow": null,
            "grid_area": null,
            "grid_auto_columns": null,
            "grid_auto_flow": null,
            "grid_auto_rows": null,
            "grid_column": null,
            "grid_gap": null,
            "grid_row": null,
            "grid_template_areas": null,
            "grid_template_columns": null,
            "grid_template_rows": null,
            "height": null,
            "justify_content": null,
            "justify_items": null,
            "left": null,
            "margin": null,
            "max_height": null,
            "max_width": null,
            "min_height": null,
            "min_width": null,
            "object_fit": null,
            "object_position": null,
            "order": null,
            "overflow": null,
            "overflow_x": null,
            "overflow_y": null,
            "padding": null,
            "right": null,
            "top": null,
            "visibility": null,
            "width": null
          }
        }
      }
    }
  },
  "cells": [
    {
      "cell_type": "markdown",
      "metadata": {
        "id": "view-in-github",
        "colab_type": "text"
      },
      "source": [
        "<a href=\"https://colab.research.google.com/github/Ash100/PPI/blob/main/FromPDB_Protein_Protein_Docking_with_MEGADOCK.ipynb\" target=\"_parent\"><img src=\"https://colab.research.google.com/assets/colab-badge.svg\" alt=\"Open In Colab\"/></a>"
      ]
    },
    {
      "cell_type": "markdown",
      "source": [
        "##**Protein Protein Docking with MEGADOCK**\n",
        "Hello,\n",
        "I am **Dr. Ashfaq Ahmad**, working in the field of Structure Biology and Bioinformatics. You can watch a video tutorial on https://www.youtube.com/@Bioinformaticsinsights\n",
        "\n",
        " This notebook is managed from the published work of *Masahito Ohue*. If you are planning to publish results generated from this noteboook, please cite\n",
        "\n",
        "**1. MEGADOCK-on-Colab: an easy-to-use protein–protein docking tool on Google Colaboratory**\n",
        "\n",
        "**2. MEGADOCK 4.0: an ultra–high-performance protein–protein docking software for heterogeneous supercomputers**.\n",
        "\n",
        "You are not allowed to use this program commercially, in case you are planning to use it commercially, please take a prior permission from Ohue lab."
      ],
      "metadata": {
        "id": "teJvjwbLxTZI"
      }
    },
    {
      "cell_type": "markdown",
      "source": [
        "In this tutorial, I will use two proteins DivL (a bacterial histidine kinase) and DivK (a bacterial Response Regulator)."
      ],
      "metadata": {
        "id": "5GgXiXeSSrl6"
      }
    },
    {
      "cell_type": "markdown",
      "source": [
        "##**IMPORTANT READ**##\n",
        "You can use this notebook for direct import from the Protein Data Bank (RCSB).\n"
      ],
      "metadata": {
        "id": "xYAKyZ8Vzp9t"
      }
    },
    {
      "cell_type": "markdown",
      "source": [
        "Import / Fetch Your Proteins Directly from the PDB"
      ],
      "metadata": {
        "id": "BcNU11PE1xsZ"
      }
    },
    {
      "cell_type": "code",
      "execution_count": 1,
      "metadata": {
        "id": "0ZWtuatrw4L_"
      },
      "outputs": [],
      "source": [
        "#@markdown **Receptor PDB** (`-R`)\n",
        "R_pdb_id = \"4Q20\" #@param {type:\"string\"}\n",
        "R_chain = \"A\" #@param {type:\"string\"}\n",
        "#@markdown **Ligand PDB** (`-L`)\n",
        "L_pdb_id = \"1MAV\" #@param {type:\"string\"}\n",
        "L_chain = \"A\" #@param {type:\"string\"}\n",
        "\n",
        "#@markdown MEGADOCK parameters (if you want to change)\n",
        "t = \"3\" #@param {type:\"string\"}\n",
        "#D = 0 #@param {type:\"string\"}\n",
        "N = \"10800\" #@param {type:\"string\"}\n",
        "outfile_name = \"dock.out\" #@param {type:\"string\"}\n",
        "\n"
      ]
    },
    {
      "cell_type": "code",
      "source": [
        "#@title Install the Required software\n",
        "\n",
        "# MEGADOCK\n",
        "!git clone https://github.com/akiyamalab/MEGADOCK\n",
        "!git clone https://github.com/NVIDIA/cuda-samples\n",
        "!apt-get install -y libfftw3-dev libfftw3-single3\n",
        "\n",
        "%cd ./MEGADOCK\n",
        "!make -j 2 -f Makefile.colab\n",
        "\n",
        "# biopython\n",
        "!pip -q install biopython\n",
        "\n",
        "# NGLView\n",
        "!pip install nglview==3.0.8\n",
        "\n",
        "!jupyter-nbextension enable nglview --py --sys-prefix"
      ],
      "metadata": {
        "cellView": "form",
        "id": "2eNcsMbN3Q_i"
      },
      "execution_count": null,
      "outputs": []
    },
    {
      "cell_type": "code",
      "source": [
        "#@title PDB preparation and download\n",
        "import os\n",
        "os.system(f\"wget https://files.rcsb.org/download/{R_pdb_id}.pdb\")\n",
        "os.system(f\"wget https://files.rcsb.org/download/{L_pdb_id}.pdb\")\n",
        "\n",
        "from Bio.PDB import *\n",
        "strr = PDBParser().get_structure(R_pdb_id, R_pdb_id+\".pdb\")\n",
        "strl = PDBParser().get_structure(L_pdb_id, L_pdb_id+\".pdb\")\n",
        "\n",
        "io = PDBIO()\n",
        "for chain in strr.get_chains():\n",
        "  if chain.get_id() == R_chain:\n",
        "    pdbr = strr.get_id() + \"_\" + chain.get_id() + \".pdb\"\n",
        "    io.set_structure(chain)\n",
        "    io.save(pdbr)\n",
        "\n",
        "for chain in strl.get_chains():\n",
        "  if chain.get_id() == L_chain:\n",
        "    pdbl = strl.get_id() + \"_\" + chain.get_id() + \".pdb\"\n",
        "    io.set_structure(chain)\n",
        "    io.save(pdbl)"
      ],
      "metadata": {
        "cellView": "form",
        "id": "coJzIQ_S5LcI"
      },
      "execution_count": null,
      "outputs": []
    },
    {
      "cell_type": "code",
      "source": [
        "#@title MEGADOCK parameter setting\n",
        "os.environ['MDt'] = str(t)\n",
        "os.environ['MDN'] = str(N)\n",
        "os.environ['MDPDBR'] = pdbr\n",
        "os.environ['MDPDBL'] = pdbl\n",
        "os.environ['MDOF'] = str(outfile_name)"
      ],
      "metadata": {
        "cellView": "form",
        "id": "hmY2DU1X43m9"
      },
      "execution_count": 4,
      "outputs": []
    },
    {
      "cell_type": "code",
      "source": [
        "#@title Run MEGADOCK\n",
        "!./megadock-gpu -R $MDPDBR -L $MDPDBL -t $MDt -N $MDN -o $MDOF"
      ],
      "metadata": {
        "cellView": "form",
        "id": "teyuIV3v7rzl"
      },
      "execution_count": null,
      "outputs": []
    },
    {
      "cell_type": "markdown",
      "source": [
        "The Below script will allow you to visualize docking result of the Best Pose. If you are unable to see, that is fine. We will download the result and can analyze in offline mode using PyMol, Discovery Visualizer, VMD, Chimera or any other."
      ],
      "metadata": {
        "id": "3KmoYrN48GP8"
      }
    },
    {
      "cell_type": "code",
      "source": [
        "from google.colab import output\n",
        "output.enable_custom_widget_manager()"
      ],
      "metadata": {
        "id": "Rsy40N3dOSJ-"
      },
      "execution_count": 6,
      "outputs": []
    },
    {
      "cell_type": "code",
      "source": [
        "import ipywidgets as widgets\n",
        "from IPython.display import display\n",
        "import os\n",
        "import sys\n",
        "from urllib.request import urlretrieve\n",
        "import Bio\n",
        "from Bio import PDB\n",
        "from Bio import SeqIO, SearchIO, Entrez\n",
        "from Bio.Seq import Seq\n",
        "import pylab\n",
        "import urllib\n",
        "import pandas as pd\n",
        "import nglview as nv\n",
        "from collections import Counter\n",
        "from Bio.PDB import PDBParser,MMCIFParser"
      ],
      "metadata": {
        "colab": {
          "base_uri": "https://localhost:8080/",
          "height": 17,
          "referenced_widgets": [
            "f51087816e254e6194e2acfeca247b07",
            "517d5ff85864428eac0ce6ff9ed4af11"
          ]
        },
        "id": "u_79YGLBOlAt",
        "outputId": "ba21324a-6416-40e0-8106-b603c39ff15d"
      },
      "execution_count": 7,
      "outputs": [
        {
          "output_type": "display_data",
          "data": {
            "text/plain": [],
            "application/vnd.jupyter.widget-view+json": {
              "version_major": 2,
              "version_minor": 0,
              "model_id": "f51087816e254e6194e2acfeca247b07"
            }
          },
          "metadata": {
            "application/vnd.jupyter.widget-view+json": {
              "colab": {
                "custom_widget_manager": {
                  "url": "https://ssl.gstatic.com/colaboratory-static/widgets/colab-cdn-widget-manager/2b70e893a8ba7c0f/manager.min.js"
                }
              }
            }
          }
        }
      ]
    },
    {
      "cell_type": "code",
      "source": [
        "#@title Show the 1st solution on PDB viewer (NGLView).\n",
        "!./decoygen lig.1.pdb $MDPDBL $MDOF 1\n",
        "!cat $MDPDBR lig.1.pdb | sed 's/END//g' > complex1.pdb\n",
        "from google.colab import output\n",
        "output.enable_custom_widget_manager()\n",
        "import nglview as nv\n",
        "view = nv.show_structure_file(\"complex1.pdb\")\n",
        "view"
      ],
      "metadata": {
        "cellView": "form",
        "id": "qw25d9P3759U"
      },
      "execution_count": null,
      "outputs": []
    },
    {
      "cell_type": "code",
      "source": [
        "#@title Show the top 5 solutions on PDB viewer (NGLView)\n",
        "!./decoygen lig.2.pdb $MDPDBL $MDOF 2\n",
        "!./decoygen lig.3.pdb $MDPDBL $MDOF 3\n",
        "!./decoygen lig.4.pdb $MDPDBL $MDOF 4\n",
        "!./decoygen lig.5.pdb $MDPDBL $MDOF 5\n",
        "!cat complex1.pdb lig.2.pdb lig.3.pdb lig.4.pdb lig.5.pdb | sed 's/END//g' > complex5s.pdb\n",
        "from google.colab import output\n",
        "output.enable_custom_widget_manager()\n",
        "import nglview as nv\n",
        "view = nv.show_structure_file(\"complex5s.pdb\")\n",
        "view"
      ],
      "metadata": {
        "cellView": "form",
        "id": "uiw_0ASJ8oji"
      },
      "execution_count": null,
      "outputs": []
    },
    {
      "cell_type": "code",
      "source": [
        "#@title PPI score calculation (for protein-protein interaction prediction)\n",
        "!./ppiscore $MDOF $MDN"
      ],
      "metadata": {
        "cellView": "form",
        "id": "GHs9JhAD8xar"
      },
      "execution_count": null,
      "outputs": []
    },
    {
      "cell_type": "markdown",
      "source": [
        "##**Interpretation / Understandings of the Docking Score Observed Above**\n",
        "\n",
        "The value of the PPI Score or the $E$ value generated in the above cell actually predict whether the interaction is positive or negative.   \n",
        "Below are the approximate values of precision (positive predictive value, PPV) and PPI Score are shown in the Figure below.  \n",
        "* The precision is below 10% when $E < 8$ and can be termed as as \"PPI Negative.\"\n",
        "* The precision is about 10% when $E > 8$ is predicted as \"PPI positive.\"\n",
        "* The precision is about 50% when $E > 10$ is predicted as \"PPI positive.\"\n",
        "* The precision is about 80% when $E > 12$ is predicted as \"PPI positive.\"\n",
        "\n",
        "![](http://drive.google.com/uc?export=view&id=1aVl9yRh-E4HXtn6AQ1fjrMb0M7Nx-wxH)\n",
        "(from Ohue M, _et al_. _Jikkenigaku_, 37(9):1469, 2019.)\n",
        "\n"
      ],
      "metadata": {
        "id": "IlKiAev982pR"
      }
    }
  ]
}